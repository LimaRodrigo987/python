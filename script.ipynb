{
 "cells": [
  {
   "cell_type": "markdown",
   "id": "43f08db3",
   "metadata": {},
   "source": [
    "Texto para Escrita -> Mostranod notebook jupiter"
   ]
  },
  {
   "cell_type": "code",
   "execution_count": 36,
   "id": "178d1796",
   "metadata": {},
   "outputs": [],
   "source": [
    "# Analise de dados\n",
    "import pandas as pd\n",
    "# Gráficos\n",
    "import matplotlib.pyplot as plt\n"
   ]
  },
  {
   "cell_type": "markdown",
   "id": "848ede05",
   "metadata": {},
   "source": [
    "Criar Dataset Ficticio"
   ]
  },
  {
   "cell_type": "code",
   "execution_count": 37,
   "id": "9d68939b",
   "metadata": {},
   "outputs": [],
   "source": [
    "# Dados\n",
    "dados = {\n",
    "    \"Companhia\": [\"Azul\",\"Gol\",\"Latam\",\"Azul\",\"Gol\"],\n",
    "    \"Preço_R$\": [500, 650 , 800, 550, 700],\n",
    "    \"Duracao_min\": [120, 150, 200, 130, 160]\n",
    "}\n",
    "df = pd.DataFrame(dados)"
   ]
  },
  {
   "cell_type": "markdown",
   "id": "4466e789",
   "metadata": {},
   "source": [
    "Visualizar DataSet"
   ]
  },
  {
   "cell_type": "code",
   "execution_count": 38,
   "id": "6590b6b7",
   "metadata": {},
   "outputs": [
    {
     "data": {
      "text/html": [
       "<div>\n",
       "<style scoped>\n",
       "    .dataframe tbody tr th:only-of-type {\n",
       "        vertical-align: middle;\n",
       "    }\n",
       "\n",
       "    .dataframe tbody tr th {\n",
       "        vertical-align: top;\n",
       "    }\n",
       "\n",
       "    .dataframe thead th {\n",
       "        text-align: right;\n",
       "    }\n",
       "</style>\n",
       "<table border=\"1\" class=\"dataframe\">\n",
       "  <thead>\n",
       "    <tr style=\"text-align: right;\">\n",
       "      <th></th>\n",
       "      <th>Companhia</th>\n",
       "      <th>Preço_R$</th>\n",
       "      <th>Duracao_min</th>\n",
       "    </tr>\n",
       "  </thead>\n",
       "  <tbody>\n",
       "    <tr>\n",
       "      <th>0</th>\n",
       "      <td>Azul</td>\n",
       "      <td>500</td>\n",
       "      <td>120</td>\n",
       "    </tr>\n",
       "    <tr>\n",
       "      <th>1</th>\n",
       "      <td>Gol</td>\n",
       "      <td>650</td>\n",
       "      <td>150</td>\n",
       "    </tr>\n",
       "    <tr>\n",
       "      <th>2</th>\n",
       "      <td>Latam</td>\n",
       "      <td>800</td>\n",
       "      <td>200</td>\n",
       "    </tr>\n",
       "    <tr>\n",
       "      <th>3</th>\n",
       "      <td>Azul</td>\n",
       "      <td>550</td>\n",
       "      <td>130</td>\n",
       "    </tr>\n",
       "    <tr>\n",
       "      <th>4</th>\n",
       "      <td>Gol</td>\n",
       "      <td>700</td>\n",
       "      <td>160</td>\n",
       "    </tr>\n",
       "  </tbody>\n",
       "</table>\n",
       "</div>"
      ],
      "text/plain": [
       "  Companhia  Preço_R$  Duracao_min\n",
       "0      Azul       500          120\n",
       "1       Gol       650          150\n",
       "2     Latam       800          200\n",
       "3      Azul       550          130\n",
       "4       Gol       700          160"
      ]
     },
     "execution_count": 38,
     "metadata": {},
     "output_type": "execute_result"
    }
   ],
   "source": [
    "df"
   ]
  }
 ],
 "metadata": {
  "kernelspec": {
   "display_name": "Python 3",
   "language": "python",
   "name": "python3"
  },
  "language_info": {
   "codemirror_mode": {
    "name": "ipython",
    "version": 3
   },
   "file_extension": ".py",
   "mimetype": "text/x-python",
   "name": "python",
   "nbconvert_exporter": "python",
   "pygments_lexer": "ipython3",
   "version": "3.13.5"
  }
 },
 "nbformat": 4,
 "nbformat_minor": 5
}
